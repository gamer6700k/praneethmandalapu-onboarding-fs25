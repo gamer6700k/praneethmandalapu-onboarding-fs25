{
  "nbformat": 4,
  "nbformat_minor": 0,
  "metadata": {
    "colab": {
      "provenance": [],
      "gpuType": "T4"
    },
    "kernelspec": {
      "name": "python3",
      "display_name": "Python 3"
    },
    "language_info": {
      "name": "python"
    },
    "accelerator": "GPU"
  },
  "cells": [
    {
      "cell_type": "markdown",
      "source": [
        "## Autonomous Project #2 (Author: Praneeth Mandalapu)"
      ],
      "metadata": {
        "id": "t6bCVY09dA8T"
      }
    },
    {
      "cell_type": "code",
      "execution_count": 11,
      "metadata": {
        "colab": {
          "base_uri": "https://localhost:8080/"
        },
        "id": "AUpekJpnJ1K0",
        "outputId": "e6271429-dfaa-4464-fdaa-6c4fafe17ea2"
      },
      "outputs": [
        {
          "output_type": "stream",
          "name": "stdout",
          "text": [
            "part 2\n",
            "Starting to train for 500 long epocs...\n",
            "Epoch: 0 | Mistake: 43.4019\n",
            "Epoch: 100 | Mistake: 1.8657\n",
            "Epoch: 200 | Mistake: 1.8435\n",
            "Epoch: 300 | Mistake: 1.8218\n",
            "Epoch: 400 | Mistake: 1.8218\n",
            "\n",
            " testing model\n",
            "Input (X) | Correct Sum (Y) | Predicted Sum (Y_hat)\n",
            "nmnmnmnmnmnmnmnmnmnmnmnmnmnmnmnmnmnmnmnmnmnmnmnmnmnmn\n",
            "  55.68 +    0.12 |          55.79 |               53.78\n",
            "  50.44 +   88.38 |         138.82 |              136.92\n",
            "  55.77 +   61.91 |         117.68 |              115.62\n",
            "   2.90 +   40.60 |          43.50 |               43.21\n",
            "  79.50 +   13.34 |          92.84 |               90.03\n"
          ]
        }
      ],
      "source": [
        "import torch\n",
        "from torch import nn\n",
        "from torch.optim import SGD\n",
        "import numpy as np\n",
        "\n",
        "\n",
        "\n",
        "def make_data(num_samples=1000):\n",
        "    #generate a 1000 pairs\n",
        "    X_inputs = torch.rand(num_samples, 2) * 100\n",
        "\n",
        "    #y is the target (the sum of the two numbers in X)\n",
        "    Y_correct_answers = torch.sum(X_inputs, dim=1).view(-1, 1)\n",
        "\n",
        "    return X_inputs, Y_correct_answers\n",
        "\n",
        "def train_nn_messy():\n",
        "\n",
        "    print(\"part 2\")\n",
        "\n",
        "    torch.manual_seed(42)\n",
        "\n",
        "\n",
        "    the_model = nn.Sequential(\n",
        "        #two numbers in, summed, 1 out\n",
        "        nn.Linear(in_features=2, out_features=1)\n",
        "    )\n",
        "\n",
        "    mistake_calc = nn.L1Loss() #get difference\n",
        "    weight_adjuster = SGD(params=the_model.parameters(), lr=0.001)\n",
        "\n",
        "    # 2. get the DATA\n",
        "    X_train, Y_train = make_data(num_samples=2000)\n",
        "\n",
        "    # 3. the training loop\n",
        "    epochs = 500\n",
        "\n",
        "    print(f\"Starting to train for {epochs} long epocs...\")\n",
        "\n",
        "    for epoch in range(epochs):\n",
        "\n",
        "\n",
        "        y_pred = the_model(X_train)\n",
        "        current_mistake = mistake_calc(y_pred, Y_train)\n",
        "        weight_adjuster.zero_grad()\n",
        "        current_mistake.backward()\n",
        "        weight_adjuster.step()\n",
        "\n",
        "\n",
        "        #print updates every 100\n",
        "        if epoch % 100 == 0:\n",
        "            print(f\"Epoch: {epoch} | Mistake: {current_mistake.item():.4f}\")\n",
        "\n",
        "    print(\"\\n testing model\")\n",
        "    X_test, Y_test = make_data(num_samples=5)\n",
        "\n",
        "    with torch.inference_mode(): # turn off gradiennts for testing\n",
        "        test_preds = the_model(X_test)\n",
        "\n",
        "    print(\"Input (X) | Correct Sum (Y) | Predicted Sum (Y_hat)\")\n",
        "    print(\"nmnmnmnmnmnmnmnmnmnmnmnmnmnmnmnmnmnmnmnmnmnmnmnmnmnmn\")\n",
        "    for i in range(len(X_test)):\n",
        "        x1 = X_test[i][0].item()\n",
        "        x2 = X_test[i][1].item()\n",
        "        actual = Y_test[i].item()\n",
        "        predicted = test_preds[i].item()\n",
        "        print(f\"{x1:7.2f} + {x2:7.2f} | {actual:14.2f} | {predicted:19.2f}\")\n",
        "\n",
        "\n",
        "if __name__ == \"__main__\":\n",
        "    train_nn_messy()\n"
      ]
    }
  ]
}
